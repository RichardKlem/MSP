{
 "cells": [
  {
   "cell_type": "markdown",
   "id": "f3844dc4-3416-4ef0-869a-036675c2b958",
   "metadata": {
    "tags": []
   },
   "source": [
    "Semestrální práce - předmět MSP\n",
    "==============\n",
    "Autor: Richard Klem<br>\n",
    "Login: xklemr00<br>\n",
    "Číslo VUT: 213177<br>\n",
    "Email: xklemr00@stud.fit.vutbr.cz<br>\n"
   ]
  },
  {
   "cell_type": "raw",
   "id": "14dca19f-f357-4b44-9a61-7d9c9479a1d7",
   "metadata": {},
   "source": [
    "\\newpage\n",
    "\\section{Úvod}\n",
    "\\label{section:uvod}\n",
    "Tato technická zpráva je exportovaný Jupyter notebook\\ref{jupyter} do \\LaTeX formátu.\n",
    "Dále jsem takto exportovaný soubor upravil a proložil Python kód psaným textem, matematickými výrazi a komentáři k postupu a výsledkům.\n",
    "Ačkoli se oficiálně odevzdával pouze jeden PDF soubor, přiložil jsem do IS i původní Python Jupyter notebook. \n",
    "Data jsem proto pro jendoduchost vepsal do kódu namísto umístění například do CSV souborů."
   ]
  },
  {
   "cell_type": "markdown",
   "id": "771e374d-0754-4ca6-892e-fba49268a4a3",
   "metadata": {},
   "source": [
    "# První příklad"
   ]
  },
  {
   "cell_type": "markdown",
   "id": "0c58cf3e-dfec-46a0-af9d-86ecf395634d",
   "metadata": {},
   "source": [
    "Načtení potřebných knihoven pro všechny příklady."
   ]
  },
  {
   "cell_type": "code",
   "execution_count": 1,
   "id": "43b1a0ba-9355-496f-9cd3-3682a0a7e33b",
   "metadata": {},
   "outputs": [],
   "source": [
    "from itertools import product\n",
    "\n",
    "import matplotlib.pyplot as plt\n",
    "import numpy as np\n",
    "import pandas as pd\n",
    "import scipy.stats as ss\n",
    "import seaborn\n",
    "from pingouin import anova"
   ]
  },
  {
   "cell_type": "markdown",
   "id": "cffce3af-26a3-4c0f-9978-1e0484130620",
   "metadata": {},
   "source": [
    "Načtení dat - latence připojení X a Y:"
   ]
  },
  {
   "cell_type": "code",
   "execution_count": 2,
   "id": "5a20c867-17eb-4fe7-b3f8-b025f26b499e",
   "metadata": {},
   "outputs": [],
   "source": [
    "    X_ms = [24.80, 24.84, 24.58, 21.73, 24.79, 21.00, 26.57, 18.31, 25.01,\n",
    "            21.71, 22.53, 19.25, 23.67, 21.17, 25.10, 21.82, 26.71, 23.14,\n",
    "            22.31, 21.32, 23.83, 19.18, 22.79, 20.25, 24.97, 22.57, 24.64,\n",
    "            21.12, 26.04, 21.34, 22.79, 21.76, 25.49, 19.82, 25.37, 20.30,\n",
    "            26.76, 20.27, 25.32, 22.67, 25.31, 20.93, 26.19, 19.81, 25.06,\n",
    "            20.63, 23.95, 22.10, 24.91, 21.41]\n",
    "    Y_ms = [28.08, 21.40, 25.90, 25.24, 23.18, 24.87, 27.56, 24.03, 25.96,\n",
    "            25.37, 21.85, 22.15, 24.88, 21.75, 23.01, 23.99, 22.05, 25.92,\n",
    "            24.45, 23.05, 24.07, 23.11, 24.14, 26.93, 20.31, 20.95, 23.71,\n",
    "            25.07, 23.76, 24.92, 23.70, 22.14, 23.70, 25.61, 25.27, 24.38,\n",
    "            22.57, 24.56, 23.69, 22.79, 22.95, 27.71, 26.20, 25.05, 26.20,\n",
    "            24.41, 21.95, 22.56, 20.31, 23.43]"
   ]
  },
  {
   "cell_type": "markdown",
   "id": "36c371b3-856c-4ff0-b5f8-35199be1f34c",
   "metadata": {},
   "source": [
    "## Normalita dat"
   ]
  },
  {
   "cell_type": "raw",
   "id": "2e4e9834-3da8-4600-99ce-da7c4d2fea83",
   "metadata": {},
   "source": [
    "Data můžeme pro prvotní odhad zhodnotit \"vlastním okem\".\n",
    "Na následujícím histogramu připojení X můžeme vidět, že data by mohla pocházet normálního rozdělení, pokud by nebyl uprotřed výsek s málo hodnotami."
   ]
  },
  {
   "cell_type": "code",
   "execution_count": 3,
   "id": "f4e5401a-90e5-4af0-b121-eea134d34578",
   "metadata": {},
   "outputs": [
    {
     "data": {
      "image/png": "[encoded data removed]",
      "text/plain": [
       "<Figure size 432x288 with 1 Axes>"
      ]
     },
     "metadata": {
      "needs_background": "light"
     },
     "output_type": "display_data"
    }
   ],
   "source": [
    "seaborn.histplot(X_ms, binwidth=0.75)\n",
    "\n",
    "data = np.random.normal(23, 2.25, 100)\n",
    "mu, std = ss.norm.fit(data) \n",
    "x = np.linspace(16, 30, 100)\n",
    "p = ss.norm.pdf(x, mu, std)\n",
    "plt.plot(x, p*45, 'k', linewidth=2)\n",
    "\n",
    "plt.show()"
   ]
  },
  {
   "cell_type": "raw",
   "id": "84dc4d86-4b52-482c-8f14-76d0708e4c1f",
   "metadata": {},
   "source": [
    "Zde můžeme vidět histogram pro připojení Y.\n",
    "Lze říci, že tato data by z normálního rozdělení být mohla.\n",
    "Pro statisticky přesné rozhodnutí můžeme použít patřičné testy normality."
   ]
  },
  {
   "cell_type": "code",
   "execution_count": 4,
   "id": "fe889315-b419-45b3-8fa3-dac49f3a8267",
   "metadata": {},
   "outputs": [
    {
     "data": {
      "image/png": "[encoded data removed]",
      "text/plain": [
       "<Figure size 432x288 with 1 Axes>"
      ]
     },
     "metadata": {
      "needs_background": "light"
     },
     "output_type": "display_data"
    }
   ],
   "source": [
    "seaborn.histplot(Y_ms, binwidth=0.75)\n",
    "data = np.random.normal(24, 2.4, 100)\n",
    "mu, std = ss.norm.fit(data) \n",
    "x = np.linspace(17, 31, 100)\n",
    "p = ss.norm.pdf(x, mu, std)\n",
    "plt.plot(x, p*50, 'k', linewidth=2)\n",
    "\n",
    "plt.show()"
   ]
  },
  {
   "cell_type": "raw",
   "id": "1affb42c-c448-441c-bea5-27ed8ad6acec",
   "metadata": {},
   "source": [
    "Rozhodl jsem se podrobit data šetření pomocí tří různých metod.\n",
    "Protože máme malé množství dat (50 vzorků), očekával jsem \"nerozhodnost\" metod. Zejména tedy u připojení X.\n",
    "Použil jsem metody D'Agostino-Pearson, Shapiro-Wilk a Aderson-Darling."
   ]
  },
  {
   "cell_type": "code",
   "execution_count": 5,
   "id": "2aa398b3-2cdf-412e-9028-4ced488135fe",
   "metadata": {},
   "outputs": [
    {
     "name": "stdout",
     "output_type": "stream",
     "text": [
      "X: NormaltestResult(statistic=7.950849275332316, pvalue=0.018771328788801035)\n",
      "X: ShapiroResult(statistic=0.9578119516372681, pvalue=0.07198256999254227)\n",
      "X: AndersonResult(statistic=0.7744160891702379, critical_values=array([0.538, 0.613, 0.736, 0.858, 1.021]), significance_level=array([15. , 10. ,  5. ,  2.5,  1. ]))\n"
     ]
    }
   ],
   "source": [
    "print(f\"X: {ss.normaltest(X_ms)}\")  # NOT normal\n",
    "print(f'X: {ss.shapiro(X_ms)}')  # IS normal\n",
    "print(f'X: {ss.anderson(X_ms)}', )  # NOT normal"
   ]
  },
  {
   "cell_type": "code",
   "execution_count": 6,
   "id": "41d05f49-d7fb-420d-94be-7a9de8debaeb",
   "metadata": {},
   "outputs": [
    {
     "name": "stdout",
     "output_type": "stream",
     "text": [
      "Y: NormaltestResult(statistic=0.17133148684056448, pvalue=0.9179009943953961)\n",
      "Y: ShapiroResult(statistic=0.9890083074569702, pvalue=0.9203163385391235)\n",
      "Y: AndersonResult(statistic=0.11994944484758463, critical_values=array([0.538, 0.613, 0.736, 0.858, 1.021]), significance_level=array([15. , 10. ,  5. ,  2.5,  1. ]))\n"
     ]
    }
   ],
   "source": [
    "print(f\"Y: {ss.normaltest(Y_ms)}\")  # IS normal\n",
    "print(f'Y: {ss.shapiro(Y_ms)}')  # IS normal\n",
    "print(f'Y: {ss.anderson(Y_ms)}', )  # IS normal"
   ]
  },
  {
   "cell_type": "markdown",
   "id": "dbf35a3c-d5a9-4820-a27c-b932c5d07f68",
   "metadata": {},
   "source": [
    "## Testy o rozdělení"
   ]
  },
  {
   "cell_type": "markdown",
   "id": "f426361e-131e-428d-a81d-4905c22fc4e1",
   "metadata": {},
   "source": [
    "Protože data nesplňují podmínku normality, použil jsem neparametrické testy."
   ]
  },
  {
   "cell_type": "code",
   "execution_count": 7,
   "id": "322ec7fe-444b-4403-89cf-270fc35c8001",
   "metadata": {},
   "outputs": [
    {
     "name": "stdout",
     "output_type": "stream",
     "text": [
      "MannwhitneyuResult(statistic=922.0, pvalue=0.02395894356623561)\n",
      "Testovací kritérium u = -2.261172919149933\n"
     ]
    }
   ],
   "source": [
    "print(ss.mannwhitneyu(X_ms, Y_ms))\n",
    "Ux = ss.mannwhitneyu(X_ms, Y_ms).statistic\n",
    "m = 50\n",
    "n = 50\n",
    "asymptotic_MW_test = (Ux - m * n / 2) / np.sqrt(m * n * (m + n + 1) / 12)\n",
    "print(f\"Testovací kritérium u = {asymptotic_MW_test}\")"
   ]
  },
  {
   "cell_type": "raw",
   "id": "010be143-8b30-48df-8665-84b5e1b8cc12",
   "metadata": {},
   "source": [
    "Tato metoda počítá hodnotu Ux a p-hodnotu. Metoda pracuje s Ux dále a vypočítá asymptotickou oboustrannou verzi Mann-Whitneyova testu.\n",
    "Výsledkem je p-hodnota, podle které můžeme určit, že hypotéza o rovnosti distribučních funkcí se zamítá.\n",
    "Alternativní hypotéze, že dist. funkce jsou různé se nezamítá."
   ]
  },
  {
   "cell_type": "code",
   "execution_count": 8,
   "id": "47a0ba9b-a34f-4493-9ce2-4e9deda0088f",
   "metadata": {},
   "outputs": [
    {
     "name": "stdout",
     "output_type": "stream",
     "text": [
      "MannwhitneyuResult(statistic=922.0, pvalue=0.011979471783117805)\n",
      "MannwhitneyuResult(statistic=922.0, pvalue=0.9882338683326318)\n"
     ]
    }
   ],
   "source": [
    "print(ss.mannwhitneyu(X_ms, Y_ms, alternative=\"less\"))  # X is less than Y\n",
    "print(ss.mannwhitneyu(X_ms, Y_ms, alternative=\"greater\"))  # X is greater than Y"
   ]
  },
  {
   "cell_type": "raw",
   "id": "5401f4a0-2753-4aa8-910c-d7792b44bc92",
   "metadata": {},
   "source": [
    "Dle tabulek normovaného normálního rozdělění je doplněk kritikcého oboru W = <- 1,96; 1,96>. u \\notin W s pruhem ==> H0 se zamita, HA se nezamita."
   ]
  },
  {
   "cell_type": "raw",
   "id": "b0c0f042-c8a4-47df-bd2b-c96020a63010",
   "metadata": {},
   "source": [
    "Zkusil jsem i Kruskal-Wallisův test. Jedná se v podstatě o obdobu metody ANOVA."
   ]
  },
  {
   "cell_type": "code",
   "execution_count": 9,
   "id": "f16b9553-10b3-4ad9-8b55-9fc3f3c2f3ec",
   "metadata": {},
   "outputs": [
    {
     "name": "stdout",
     "output_type": "stream",
     "text": [
      "KruskalResult(statistic=5.113179109582846, pvalue=0.023744772017848945)\n",
      "co-W = 3.8415\n"
     ]
    }
   ],
   "source": [
    "print(ss.kruskal(X_ms, Y_ms))\n",
    "print(f\"co-W = {format(ss.chi2.ppf(0.95, 1), '.4f')}\")"
   ]
  },
  {
   "cell_type": "raw",
   "id": "c6fe7d5a-26d2-498d-bf01-d104b586d238",
   "metadata": {},
   "source": [
    "I zde vidíme, že p-hodnota značí zamítnutí H0. Dle tabulky Pearsonova rozložení je dop.krit.oboru W s pruhem = <0; 3,841>. u \\notin W s pruhem ==> H0 se zamita, HA se nezamita."
   ]
  },
  {
   "cell_type": "raw",
   "id": "d51446b8-d81b-49d3-b7e7-60e963795731",
   "metadata": {},
   "source": [
    "Použitá literatura v úkolu 1:\n",
    "    - materiály z předmětu MSP\n",
    "    - https://www.tandfonline.com/doi/pdf/10.1080/00949655.2010.520163\n",
    "    - https://www.real-statistics.com/tests-normality-and-symmetry/statistical-tests-normality-symmetry/dagostino-pearson-test/\n",
    "    - https://en.wikipedia.org/wiki/Shapiro%E2%80%93Wilk_test#cite_note-Shapiro%E2%80%93Wilk-1\n",
    "    - https://en.wikipedia.org/wiki/Anderson%E2%80%93Darling_test\n",
    "    - https://en.wikipedia.org/wiki/D%27Agostino%27s_K-squared_test"
   ]
  },
  {
   "cell_type": "markdown",
   "id": "510ba0b0-846f-423f-9af9-ab5e960461c6",
   "metadata": {},
   "source": [
    "# Druhý příkald"
   ]
  },
  {
   "cell_type": "markdown",
   "id": "3cfd96ff-28fe-48b2-af5e-321d2bb21af0",
   "metadata": {},
   "source": [
    "Byl proveden průzkum, zda čas [min] potřebný k vyřešení určité úlohy závisí na denní době nebo na \n",
    "hlučnosti okolí.\n",
    "\n",
    "Denní doba (faktor 1) nabývá tří hodnot: ráno, v poledne a večer. Hlučnost okolí \n",
    "(faktor 2) nabývá čtyři hodnoty:\n",
    " - tiché prostředí, reprodukovaná hudba, pouliční hluk, křik (dítěte, \n",
    "studentů, kteří ve vedlejším pokoji slaví úspěšné absolvování zkoušky z MSP).\n",
    "\n",
    "Počet studentů, kteří řešili úkol za určitých podmínek, byl různý. Čas v minutách potřebný k vyřešení úlohy je uveden v tabulce.\n",
    "\n",
    "Do tabulky si každý student ke každé hodnotě faktoru 1 připíše jím zvolené hodnoty.\n",
    "\n",
    "(Zvolí si číslo a zvolí si, do které hodnoty faktoru 2 ho připíše. Tedy v tabulce přibudou celkem tři hodnoty.)\n",
    "\n",
    "Zjistěte, zda doba potřebná k vyřešení úlohy závisí na denní době nebo na hlučnosti okolí nebo na kombinaci obou faktorů. \n",
    "\n",
    "Předpokládejte rovnost rozptylů v jednotlivých kategoriích."
   ]
  },
  {
   "cell_type": "markdown",
   "id": "c693cd2a-50a0-462f-88bf-cbbaf96b47bc",
   "metadata": {},
   "source": [
    "Moje upravená tabulka vypadá následovně:"
   ]
  },
  {
   "cell_type": "raw",
   "id": "7a82aa9c-e5d9-466c-b39d-dcee97db90cc",
   "metadata": {},
   "source": [
    "\\begin{table}[]\n",
    "\\begin{tabular}{|c|cccc|}\n",
    "\\hline\n",
    "\\multicolumn{1}{|c|}{}   & \\multicolumn{4}{c|}{faktor2}                                                                                    \\\\ \\hline\n",
    "faktor 1                 & \\multicolumn{1}{c|}{ticho} & \\multicolumn{1}{c|}{hudba} & \\multicolumn{1}{c|}{hluk} & \\multicolumn{1}{c|}{krik} \\\\ \\hline\n",
    "\\multirow{4}{*}{rano}    & \\multicolumn{1}{c|}{6}     & \\multicolumn{1}{c|}{7}     & \\multicolumn{1}{c|}{8}    & 13                        \\\\ \\cline{2-5} \n",
    "                         & \\multicolumn{1}{c|}{8}     & \\multicolumn{1}{c|}{8}     & \\multicolumn{1}{c|}{7}    & 21                        \\\\ \\cline{2-5} \n",
    "                         & \\multicolumn{1}{c|}{11}    & \\multicolumn{1}{c|}{12}    & \\multicolumn{1}{c|}{20}   &                           \\\\ \\cline{2-5} \n",
    "                         & \\multicolumn{1}{c|}{\\color{red}{7}}      & \\multicolumn{1}{c|}{10}    & \\multicolumn{1}{c|}{}     &                           \\\\ \\hline\n",
    "\\multirow{4}{*}{poledne} & \\multicolumn{1}{c|}{8}     & \\multicolumn{1}{c|}{5}     & \\multicolumn{1}{c|}{10}   & 14                        \\\\ \\cline{2-5} \n",
    "                         & \\multicolumn{1}{c|}{13}    & \\multicolumn{1}{c|}{11}    & \\multicolumn{1}{c|}{17}   &                           \\\\ \\cline{2-5} \n",
    "                         & \\multicolumn{1}{c|}{7}     & \\multicolumn{1}{c|}{7}     & \\multicolumn{1}{c|}{11}   &                           \\\\ \\cline{2-5} \n",
    "                         & \\multicolumn{1}{c|}{\\color{red}{6}}      & \\multicolumn{1}{c|}{}      & \\multicolumn{1}{c|}{13}   &                           \\\\ \\hline\n",
    "\\multirow{5}{*}{vecer}   & \\multicolumn{1}{c|}{7}     & \\multicolumn{1}{c|}{6}     & \\multicolumn{1}{c|}{12}   & 13                        \\\\ \\cline{2-5} \n",
    "                         & \\multicolumn{1}{c|}{8}     & \\multicolumn{1}{c|}{8}     & \\multicolumn{1}{c|}{17}   & 17                        \\\\ \\cline{2-5} \n",
    "                         & \\multicolumn{1}{c|}{6}     & \\multicolumn{1}{c|}{16}    & \\multicolumn{1}{c|}{\\color{red}{8}}     & 15                        \\\\ \\cline{2-5} \n",
    "                         & \\multicolumn{1}{c|}{}      & \\multicolumn{1}{c|}{15}    & \\multicolumn{1}{c|}{}     & 22                        \\\\ \\cline{2-5} \n",
    "                         & \\multicolumn{1}{c|}{}      & \\multicolumn{1}{c|}{}      & \\multicolumn{1}{c|}{}     & 18                        \\\\ \\hline\n",
    "\\end{tabular}\n",
    "\\end{table}"
   ]
  },
  {
   "cell_type": "markdown",
   "id": "5539498e-9778-464e-9685-9d46e8b4108a",
   "metadata": {},
   "source": [
    "Zajímá nás porovnání dvou faktorů, přičemž je důležitá velikost hodnot a ne jenom počet. Toto vede na analýzu rozptylů ANOVA.\n",
    "\n",
    "Poku bychom se zajímali pouze o počet v jednotlivých polích, vedlo by to na kategoriální analýzu.\n",
    "\n",
    "Důležité poznatky:\n",
    " - protože není stejný počet záznamů pro každou kombinaci faktorů, musíme použít nevyváženou ANOVA metodu.\n",
    " - protože nás zajímá i kombinace faktorů, musíme použít metodu nevyvážená ANOVA s interakcí."
   ]
  },
  {
   "cell_type": "markdown",
   "id": "d4e8565a-ea0e-4686-b550-7c00d7e7f8d5",
   "metadata": {},
   "source": [
    "## Příprava dat"
   ]
  },
  {
   "cell_type": "code",
   "execution_count": 10,
   "id": "32c05a47-945e-4b57-a1f0-68d42098ddc5",
   "metadata": {},
   "outputs": [],
   "source": [
    "f1_names = [\"rano\", \"poledne\", \"vecer\"]\n",
    "f2_names = [\"ticho\", \"hudba\", \"hluk\", \"krik\"]\n",
    "\n",
    "data = [\n",
    "    [[6,8,11,7], [7,8,12,10], [8,7,20], [13,21]],\n",
    "    [[8,13,7,6],[5,11,7],[10,17,11,13], [14]],\n",
    "    [[7,8,6],[6,8,16,15],[12,17,8],[13,17,15,22,18]]\n",
    "]\n",
    "\n",
    "records = []\n",
    "combinations = list(product(enumerate(f1_names), enumerate(f2_names)))\n",
    "combinations = [(a,b,c,d) for (a,b),(c,d) in combinations]\n",
    "for i, f1, j, f2 in combinations:\n",
    "    [records.append([f1, f2, n]) for n in data[i][j]]\n",
    "\n",
    "column_names = [\"f1\", \"f2\", \"time\"]\n",
    "df = pd.DataFrame(records, columns=column_names)"
   ]
  },
  {
   "cell_type": "markdown",
   "id": "f52b679e-caab-4979-b5a7-f2a4200b2bc8",
   "metadata": {},
   "source": [
    "## Výpočet\n",
    "Jsou vybrány pouze sloupce, které nás zajímá z hlediska zamítnutí nulové hypotézy.\n",
    "\n",
    "Source - zdroj variability, DF - počet stupňů volnosti, F - testovací kritérium, co-W_right - pravá hranice doplňku kritického oboru a p-unc - p-hodnota bez korekce.\n",
    "\n",
    "Když je p-hodnota bez korekce, tak má vždy přísnější rozhodovací sílu než s korekcí. Tedy udává větší statistickou významnost. Hodnoty s korekcí jsou méně přísné."
   ]
  },
  {
   "cell_type": "code",
   "execution_count": 11,
   "id": "36874c87-0bf1-4701-a228-c8cf1510002e",
   "metadata": {},
   "outputs": [
    {
     "name": "stdout",
     "output_type": "stream",
     "text": [
      "     Source    DF         F  co-W_right     p-unc\n",
      "0        f1   2.0  0.155623      3.3404  0.856617\n",
      "1        f2   3.0  8.230613      2.9467  0.000440\n",
      "2   f1 * f2   6.0  0.366846      2.4453  0.893696\n",
      "3  Residual  28.0       NaN         NaN       NaN\n"
     ]
    }
   ],
   "source": [
    "ret = anova(data=df, dv=\"time\", between=[\"f1\", \"f2\"], ss_type=2,\n",
    "            detailed=True, effsize=\"n2\")\n",
    "ret[\"co-W_right\"] = [3.3404, 2.9467, 2.4453, np.nan]\n",
    "ret = ret[[\"Source\", \"DF\", \"F\", \"co-W_right\", \"p-unc\"]]\n",
    "print(ret)"
   ]
  },
  {
   "cell_type": "raw",
   "id": "a486f463-b8f5-4ab5-8cf2-4fec86a2a2c9",
   "metadata": {},
   "source": [
    "\\begin{table}[]\n",
    "\\centering\n",
    "\\resizebox{\\textwidth}{!}{%\n",
    "\\begin{tabular}{|c|c|c|c|c|c|}\n",
    "\\hline\n",
    "  & Source   & DF   & F        & co-W\\_right & p-unc    \\\\ \\hline\n",
    "0 & f1       & 2.0  & 0.155623 & 3.3404      & 0.856617 \\\\ \\hline\n",
    "1 & f2       & 3.0  & 8.230613 & 2.9467      & 0.000440 \\\\ \\hline\n",
    "2 & f1 * f2  & 6.0  & 0.366846 & 2.4453      & 0.893696 \\\\ \\hline\n",
    "3 & Residual & 28.0 & NaN      & NaN         & NaN      \\\\ \\hline\n",
    "\\end{tabular}%\n",
    "}\n",
    "\\end{table}"
   ]
  },
  {
   "cell_type": "markdown",
   "id": "c1331add-8fb8-4f3d-a633-315b3d6d74fd",
   "metadata": {},
   "source": [
    "Použitá literatura pro příklad 2:\n",
    " - https://en.wikipedia.org/wiki/Ordinary_least_squares\n",
    " - https://www.statsmodels.org/stable/anova.html\n",
    " - https://pingouin-stats.org/generated/pingouin.anova.html#pingouin.anova"
   ]
  },
  {
   "cell_type": "markdown",
   "id": "734e23d8-a251-4d63-acdf-ecd56b291168",
   "metadata": {},
   "source": [
    "# Příklad 3\n",
    "Prováděl jsem výzkym, zda studijní průměr závisí na množství zkonzumovaných masných výrobků.\n",
    "Jelikož se na ZŠ v prvouce učíme, že díky konzumaci masa se pračlověku vyvinul mozek, ale zároveň se lze v poslední době čím dál více doslechnout, že lidé by měli přejít na rostlinou stravu.\n",
    "Zajímalo mě tedy, jestli lze na nynějších vysokoškolácích pozorovat závislost studijních úspěchů a způsobu stravování.\n",
    "Celkem jsem obdržel 141 odpovědí, ale jedna odpověď obsahovala nevyplněnou hodnotu o stravování.\n",
    "Nenastavil jsem totiž ony dvě otázky jako povinné, šlo tedy odpovědět i prázdnými hodnotami.\n",
    "Naštestí se jednalo o ojedinělý exemplář, který můžu tedy odstranmit bez negativního dopadu na zbylý soubor dat.\n",
    "Níže je tabulka četností odpovědí bez výše zmíněné nevalidní odpovědi."
   ]
  },
  {
   "cell_type": "raw",
   "id": "436d0af0-448d-46fb-a1aa-fffacf77354f",
   "metadata": {},
   "source": [
    "\\begin{table}[]\n",
    "\\centering\n",
    "\\resizebox{\\textwidth}{!}{%\n",
    "\\begin{tabular}{|l|l|l|l|l|l|l|}\n",
    "\\hline\n",
    "                                                                & 1 - 1.4 & 1.5 - 1.9 & 2.0 - 2.4 & 2.5 - 2.9 & 3.0 a více & Grand Total \\\\ \\hline\n",
    "Maso jím prakticky každý den                                    & 9       & 22        & 27        & 14        &            & 72          \\\\ \\hline\n",
    "Maso jím maximálně 3 dny v týdnu                              & 6       & 10        & 18        & 10        &            & 44          \\\\ \\hline\n",
    "Maso jím příležitostně                                        &         &           &           & 2         &            & 2           \\\\ \\hline\n",
    "Jsem čistý vegetarián (jím vejce, mléko, med)                 & 2       & 2         & 3         & 1         &            & 8           \\\\ \\hline\n",
    "Jsem něco mezi vegetariánem a veganem                         &         & 2         & 3         & 1         &            & 6           \\\\ \\hline\n",
    "Jsem čistý vegan                                              & 1       & 1         & 3         & 2         & 1          & 8           \\\\ \\hline\n",
    "Grand Total                                                     & 18      & 37        & 54        & 30        & 1          & 140         \\\\ \\hline\n",
    "\\end{tabular}%\n",
    "}\n",
    "\\end{table}"
   ]
  },
  {
   "cell_type": "markdown",
   "id": "c1e080f1-1fcb-46ad-a679-6d5afee96631",
   "metadata": {},
   "source": [
    "Pro zpracování dat jsem použil metodu \\texttt{chi2_contingency} z knihovny \\texttt{scipy.stats}.\n",
    "Pro zajímavost jsem zkusil všechny dostupné metody výpočtu testovacího kritéria $\\Chi^2$ a to konkrétně \"log-likelihood\", \"mod-log-likelihood\", \"freeman-tukey\", \"neyman\" a \"cressie-read\".\n",
    "Všechny metody byly vypočitaly v podstatě stejné výsledky. Nějvětší rozdíl byl řádově v setinách."
   ]
  },
  {
   "cell_type": "markdown",
   "id": "cff188a8-f628-4916-ae5e-802031aa7e7e",
   "metadata": {},
   "source": [
    "Funkce pro výpočet a výpis výslekdů kategoriální analýzy:"
   ]
  },
  {
   "cell_type": "code",
   "execution_count": 12,
   "id": "15404b01-516d-4fcf-b351-65a2654f4b0c",
   "metadata": {},
   "outputs": [],
   "source": [
    "def cat_analysis(data, columns=None):\n",
    "    method = \"pearson\"\n",
    "    alpha = 0.05\n",
    "\n",
    "    chi2, p_value, dof, theo_freq = ss.chi2_contingency(data, lambda_=method)\n",
    "    chi2_dist_dof = (len(data)-1)*(len(data[0])-1)\n",
    "    chi2_co_W = format(ss.chi2.ppf(1-alpha, chi2_dist_dof), '.4f')\n",
    "    print(\n",
    "        f\"\\nX^2 = {format(chi2, '.4f')} | p-value = {format(p_value, '.4f')}\"\n",
    "        f\" | dof = {dof}, X^2(dof={dof}) = {chi2_co_W}\")\n",
    "    theo_freq = pd.DataFrame(theo_freq, columns=columns)\n",
    "    pd.set_option('display.float_format', lambda x: '%0.2f' % x)\n",
    "    print(f\"{theo_freq}\")"
   ]
  },
  {
   "cell_type": "raw",
   "id": "051eaee1-94df-4062-8b28-fce568058b90",
   "metadata": {},
   "source": [
    "Seznam datových sad o různé redukci. \\texttt{data_orig} jsou původní data.\n",
    "\\texttt{data_red_2_lepsi} jsou data se sloučenými průměry na interval 1-1.9, dvě teoretické četnosti jsou stále menší jak 5.\n",
    "\\texttt{data_orig} jsou data se sloučenými průměry na interval 2 a více, dvě teoretické četnosti jsou stále menší jak 5.\n",
    "\\texttt{data_orig} jsou sloučená data na intervaly \"1-1.9\" a \"2 a více\", nyní již žádná teoretická četnost není menší jak 5."
   ]
  },
  {
   "cell_type": "code",
   "execution_count": 13,
   "id": "449231ad-2297-4699-8c90-1f914d66eb9b",
   "metadata": {
    "tags": []
   },
   "outputs": [
    {
     "name": "stdout",
     "output_type": "stream",
     "text": [
      "\n",
      "X^2 = 1.5992 | p-value = 0.9526 | dof = 6, X^2(dof=6) = 12.5916\n",
      "   1.0-1.4  1.5-1.9  2.0-2.4  2.5 a vice\n",
      "0     9.26    19.03    27.77       15.94\n",
      "1     5.91    12.16    17.74       10.19\n",
      "2     2.83     5.81     8.49        4.87\n",
      "\n",
      "X^2 = 1.1654 | p-value = 0.8838 | dof = 4, X^2(dof=4) = 9.4877\n",
      "   1.0-1.9  2.0-2.4  2.5 a vice\n",
      "0    28.29    27.77       15.94\n",
      "1    18.07    17.74       10.19\n",
      "2     8.64     8.49        4.87\n",
      "\n",
      "X^2 = 1.3327 | p-value = 0.8558 | dof = 4, X^2(dof=4) = 9.4877\n",
      "   1.0-1.4  1.5-1.9  2.0 a vice\n",
      "0     9.26    19.03       43.71\n",
      "1     5.91    12.16       27.93\n",
      "2     2.83     5.81       13.36\n",
      "\n",
      "X^2 = 0.8988 | p-value = 0.6380 | dof = 2, X^2(dof=2) = 5.9915\n",
      "   1.0-1.9  2.0 a vice\n",
      "0    28.29       43.71\n",
      "1    18.07       27.93\n",
      "2     8.64       13.36\n"
     ]
    }
   ],
   "source": [
    "data_orig = [[9, 22, 27, 14, 0], [6, 10, 18, 10, 0], [0, 0, 0, 2, 0],\n",
    "             [2, 2, 3, 1, 0], [0, 2, 3, 1, 0], [1, 1, 3, 2, 1]]\n",
    "data_red_1 = [[9, 22, 27, 14], [6, 10, 18, 12], [3, 5, 9, 5]]\n",
    "data_red_2_lepsi = [[31, 27, 14], [16, 18, 12], [8, 9, 5], ]\n",
    "data_red_2_horsi = [[9, 22, 41], [6, 10, 30], [3, 5, 14]]\n",
    "data_red_3 = [[31, 41], [16, 30], [8, 14]]\n",
    "\n",
    "cat_analysis(data_red_1, columns=[\"1.0-1.4\", \"1.5-1.9\", \"2.0-2.4\", \"2.5 a vice\"])\n",
    "cat_analysis(data_red_2_lepsi, columns=[\"1.0-1.9\", \"2.0-2.4\", \"2.5 a vice\"])\n",
    "cat_analysis(data_red_2_horsi, columns=[\"1.0-1.4\", \"1.5-1.9\", \"2.0 a vice\"])\n",
    "cat_analysis(data_red_3, columns=[\"1.0-1.9\", \"2.0 a vice\"])"
   ]
  },
  {
   "cell_type": "raw",
   "id": "056057fe-e84c-4b23-8c20-178eba96b4d9",
   "metadata": {},
   "source": [
    "Ve všech variantách leží testovací kritérium $\\Xi^2 \\in W\\_0.95$. \n",
    "Pro správnou analýzu bychom měli uvážit pouze poslední tabulku, kdy všechny četnosti jsou větší jak 5.\n",
    "Nulovou hypotézu o nezávislosti tedy nezamítáme."
   ]
  },
  {
   "cell_type": "raw",
   "id": "38eb8744-df7d-42a2-a5a8-6a53af35a2af",
   "metadata": {},
   "source": [
    "Co pridat do latexu:\n",
    "    - preamle \n",
    "        \\usepackage{graphicx}\n",
    "        \\usepackage{color} \n",
    "        \\usepackage{multirow}"
   ]
  }
 ],
 "metadata": {
  "kernelspec": {
   "display_name": "Python 3 (ipykernel)",
   "language": "python",
   "name": "python3"
  },
  "language_info": {
   "codemirror_mode": {
    "name": "ipython",
    "version": 3
   },
   "file_extension": ".py",
   "mimetype": "text/x-python",
   "name": "python",
   "nbconvert_exporter": "python",
   "pygments_lexer": "ipython3",
   "version": "3.10.0"
  }
 },
 "nbformat": 4,
 "nbformat_minor": 5
}
